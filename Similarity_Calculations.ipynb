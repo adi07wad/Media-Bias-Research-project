{
 "cells": [
  {
   "cell_type": "code",
   "execution_count": 3,
   "metadata": {},
   "outputs": [
    {
     "data": {
      "text/plain": [
       "32"
      ]
     },
     "execution_count": 3,
     "metadata": {},
     "output_type": "execute_result"
    }
   ],
   "source": [
    "import string\n",
    "import pandas as pd\n",
    "import numpy as np\n",
    "\n",
    "nyt_uniques=pd.read_csv('C:/Users/aditi/OneDrive/Desktop/Media_Bias/20180516-20180621_nyt_unique.csv')\n",
    "reuters_uniques=pd.read_csv('C:/Users/aditi/OneDrive/Desktop/Media_Bias/20180516-20180621_reuters_unique.csv')\n",
    "\n",
    "len(string.punctuation)\n",
    "#string.punctuation+='”'\n",
    "#string.punctuation+='—'\n",
    "#trantab=str.maketrans(string.punctuation,'                                  ')\n",
    "\n",
    "#wordcount_test=test['article'][0].translate(trantab)\n",
    "\n",
    "#' '.join(wordcount_test.split())\n",
    "\n",
    "\n"
   ]
  },
  {
   "cell_type": "code",
   "execution_count": 7,
   "metadata": {},
   "outputs": [
    {
     "name": "stdout",
     "output_type": "stream",
     "text": [
      "SEOUL, South Korea — North Korea threw President Trump’s planned summit meeting with its leader, Kim Jong-un, into doubt on Wednesday, threatening to call off the landmark encounter if the United States insisted on “unilateral nuclear abandonment.”The warning, made by the North’s disarmament negotiator, caught Trump administration officials off guard and set off an internal debate over whether Mr. Kim was merely posturing in advance of the meeting in Singapore next month or was erecting a serious new hurdle.The abrupt change in tone began early Wednesday, when North Korea indefinitely postponed high-level talks with South Korea over the North’s sudden objection to joint military drills by the South and the United States that began last week. The North also raised the possibility of scrapping the meeting with Mr. Trump. Then hours later, the North broadened the source of its anger and sharpened the threat to the summit with Mr. Trump. Kim Kye-kwan, a vice foreign minister, rejected the administration’s demand that it quickly dismantle its nuclear program as Libya had done 15 years ago, singling out John R. Bolton, Mr. Trump’s new national security adviser, for condemnation.“If the United States is trying to drive us into a corner to force our unilateral nuclear abandonment, we will no longer be interested in such dialogue and cannot but reconsider our proceeding to the D.P.R.K.-U.S. summit,” the statement said, using the abbreviation for the North’s formal name, the Democratic People’s Republic of Korea.Mr. Kim said his country would never follow the path of Libya and Iraq, which he said met a “miserable fate” at the hands of “big powers.”He said North Korea had “shed light on the quality of Bolton” in the past, “and we do not hide our feelings of repugnance towards him.” North Korea had previously signaled flexibility about the military exercises, appearing to remove a perennial obstacle to talks between North and South Korea. But the North cited its objections to the joint American-South Korean air force drill in postponing a separate high-level meeting with South Korea that had been planned for Wednesday.As the White House scrambled to assess the North Korean statements, the State Department said planning for the June 12 summit meeting remained on track, and pointed to Mr. Kim’s earlier acceptance of the exercises, which had been conveyed to the United States by South Korean officials. The North Korean statements injected sudden tension and uncertainty into what had been months of warming relations on the Korean Peninsula, most notably the summit meeting between Mr. Kim and President Moon Jae-in of South Korea on April 27 and their declaration to pursue peace.The confusion created by the statements also underscored the risks for Mr. Trump in meeting with the 34-year-old North Korean leader. And it served as a reminder that for all of Mr. Kim’s camera-ready smiles and diplomatic gestures of recent months, North Korea remains an opaque, unpredictable country.“The South Korean authorities and the United States launched a large-scale joint air force drill against our Republic even before the ink on the historic inter-Korean declaration has dried,” the official Korean Central News Agency said earlier in the day. “There is a limit to our good will.”“We will be closely watching the attitude of the United States and South Korean authorities,” the news agency added. It declared that the drill, known as Max Thunder, was a “deliberate military provocation” that had violated the inter-Korean summit declaration. The United States and South Korea, the North’s statement said, had mobilized 100 aircraft in the exercise to “make a pre-emptive airstrike” and “win the air.”Senior officials from the two Koreas had been scheduled to meet in the “truce village” of Panmunjom on their border Wednesday to discuss putting in place an agreement to improve ties and ease military tensions, building on the declaration signed by their leaders on April 27.The Pentagon said Max Thunder was an annual exercise to maintain military readiness to defend South Korea. “The defensive nature of these combined exercises has been clear for many decades and has not changed,” said a Defense Department spokesman, Col. Rob Manning.The State Department spokeswoman, Heather Nauert, said: “Kim Jong-un had said previously that he understands the need and the utility of the United States and the Republic of Korea continuing in its joint exercises. They are exercises that are legal. They’re planned well, well in advance.”She also said the United States had received no notification of a change in plans for the summit meeting. “We will continue to go ahead and plan the meeting between President Trump and Kim Jong-un,” she said.There was some ambiguity about whether Mr. Kim had dropped his objection to all joint exercises, or merely the ones that were underway at the time that he opened a dialogue with Mr. Moon. When Mr. Kim met with South Korean envoys in March, he agreed to meet with Mr. Moon despite a round of joint military drills that were about to be conducted.South Korean envoys quoted Mr. Kim as saying he understood that those exercises must continue. But those drills are over. The new round of annual United States-South Korean drills began last Friday. In their March meeting, Mr. Kim told the South Korean emissaries that he hoped the United States and South Korea would “readjust” their annual military drills “when the situation stabilizes,” according to the envoys.Joel S. Wit, a senior fellow at the Johns Hopkins School of Advanced International Studies who negotiated with North Korea during the Clinton administration, said Mr. Kim was pulling a page from Mr. Trump’s playbook.“It’s probably them acting like North Koreans after being pussy cats since January,” he said. “Acting like tough guys. Like Trump saying he would walk out of the summit if he didn’t like the deal.”Christopher R. Hill, who negotiated with North Korea during the George W. Bush administration, said it was possible that the threat was serious. The North, he noted, has a history of insulting the South, and normally, the United States comes to the defense of its ally.Mr. Trump did not immediately react to Mr. Kim’s warning, and the White House issued only a bland statement. “The United States will look at what North Korea has said independently, and continue to coordinate closely with our allies,” said Sarah Huckabee Sanders, the White House press secretary.While Mr. Trump has raised expectations for a breakthrough with Mr. Kim, other officials have tried to strike a more cautious note. In an interview on the CBS program “Face the Nation” last Sunday, Secretary of State Mike Pompeo, who has met Mr. Kim twice, said, “We have our eyes wide open with respect to the fact that the North Koreans have not proved worthy of their promises, but we’re hopeful that this will be different.” Tensions on the divided Korean Peninsula have eased considerably since Mr. Kim launched a fast-paced string of diplomatic overtures in recent months, starting with his decision to send North Korean athletes to the Winter Olympics held in the South in February.Last month, North Korea announced an end to all nuclear and long-range missile tests. Last week, it freed three Americans held in North Korea, sending them home with Mr. Pompeo.This week, the North invited international journalists to watch its engineers shut down its only-known nuclear test site later this month. The two Koreas have also started dismantling loudspeakers they have used to blare propaganda broadcasts across the border.It is not unusual for North Korea to abruptly cancel and postpone meetings with its neighbors. The North’s decision to postpone the border talks was delivered only 15 hours after it proposed those talks on Tuesday and the South quickly accepted the offer.In 2015, a North Korean band packed up and returned home only hours before it was scheduled to perform in Beijing in a gesture of friendship between the two countries’ Communist governments. In January, North Korea agreed to send an advance team of officials to the South to prepare for its participation in the Winter Olympics, but abruptly delayed their trip.“Seoul is a soft target,” said Lee Sung-yoon, a Korea expert at the Fletcher School of Law and Diplomacy at Tufts University, referring to the North’s history of “periodically threatening to walk away from talks” in order to raise its leverage during negotiations. “The North will resume the canceled talks in time — likely as early as later in the week.”\n"
     ]
    }
   ],
   "source": [
    "testing_reuters=reuters_uniques['article'][0]\n",
    "testing_nyt=nyt_uniques['article'][0]\n",
    "\n",
    "#print(testing_reuters)\n",
    "print(testing_nyt)"
   ]
  },
  {
   "cell_type": "code",
   "execution_count": 20,
   "metadata": {},
   "outputs": [],
   "source": [
    "string.punctuation+='”'\n",
    "string.punctuation+='—'"
   ]
  },
  {
   "cell_type": "code",
   "execution_count": 21,
   "metadata": {},
   "outputs": [
    {
     "ename": "ValueError",
     "evalue": "the first two maketrans arguments must have equal length",
     "output_type": "error",
     "traceback": [
      "\u001b[1;31m---------------------------------------------------------------------------\u001b[0m",
      "\u001b[1;31mValueError\u001b[0m                                Traceback (most recent call last)",
      "\u001b[1;32m<ipython-input-21-9c5decc9251b>\u001b[0m in \u001b[0;36m<module>\u001b[1;34m()\u001b[0m\n\u001b[1;32m----> 1\u001b[1;33m \u001b[0mtrantab\u001b[0m\u001b[1;33m=\u001b[0m\u001b[0mstr\u001b[0m\u001b[1;33m.\u001b[0m\u001b[0mmaketrans\u001b[0m\u001b[1;33m(\u001b[0m\u001b[0mstring\u001b[0m\u001b[1;33m.\u001b[0m\u001b[0mpunctuation\u001b[0m\u001b[1;33m,\u001b[0m\u001b[1;34m'                                  '\u001b[0m\u001b[1;33m)\u001b[0m\u001b[1;33m\u001b[0m\u001b[0m\n\u001b[0m\u001b[0;32m      2\u001b[0m \u001b[0mwordcount_test_reuters\u001b[0m\u001b[1;33m=\u001b[0m\u001b[0mtesting_reuters\u001b[0m\u001b[1;33m.\u001b[0m\u001b[0mtranslate\u001b[0m\u001b[1;33m(\u001b[0m\u001b[0mtrantab\u001b[0m\u001b[1;33m)\u001b[0m\u001b[1;33m\u001b[0m\u001b[0m\n\u001b[0;32m      3\u001b[0m \u001b[0mwordcount_test_reuters\u001b[0m\u001b[1;33m=\u001b[0m\u001b[0mwordcount_test_reuters\u001b[0m\u001b[1;33m.\u001b[0m\u001b[0mreplace\u001b[0m\u001b[1;33m(\u001b[0m\u001b[1;34m'“'\u001b[0m\u001b[1;33m,\u001b[0m \u001b[1;34m''\u001b[0m\u001b[1;33m)\u001b[0m\u001b[1;33m\u001b[0m\u001b[0m\n",
      "\u001b[1;31mValueError\u001b[0m: the first two maketrans arguments must have equal length"
     ]
    }
   ],
   "source": [
    "trantab=str.maketrans(string.punctuation,'                                 ')\n",
    "wordcount_test_reuters=testing_reuters.translate(trantab)\n",
    "wordcount_test_reuters=wordcount_test_reuters.replace('“', '')"
   ]
  },
  {
   "cell_type": "code",
   "execution_count": 10,
   "metadata": {},
   "outputs": [
    {
     "data": {
      "text/plain": [
       "'philadelphia eagles tackle lane johnson hasn’t been shy about criticizing the new england patriots  and he elaborated on what spurred many of those comments on a steve austin podcast published tuesday  jan 31  2018  bloomington  mn  usa  philadelphia eagles offensive tackle lane johnson during a press conference in advance of super bowl lii against the new england patriots at mall of america  mandatory credit  jerry lai usa today sportshere’s what pissed me off   johnson said when asked about his previous coments  the patriots  obviously  i respect their coach  i respect bill   i respect tom brady  but just because the way that they won the super bowls  the patriot way  is that how everybody else is supposed to do the same thing  no  it’s not  and that’s what i got mad at  the arrogance by them  there was obviously some stuff behind closed doors  their owner  robert kraft  talking s   to our owner  jeffrey lurie   bill talking s   to our head coach  doug pederson  before the game  i’m not going to say it  but a lot of s   kind of built up to that  and i just got tired of hearing about it  man  to be honest   after the eagles secured their trip to super bowl lii with an nfc championship victory over the minnesota vikings  johnson called brady a pretty boy  and added  there’s nothing i’d like to do more than dethrone that guy   then  a week after philadelphia’s victory to claim the lombardi trophy in february  he called new england a fear based organization  with players who act like f  ing robots   reflecting on the comments in tuesday’s podcast  johnson added that he wanted to show his teammates not to fear the patriots  something he thinks happens often as the result of the team’s history of success and the resulting aura  i got in a lot of trouble running my mouth  but my thinking was  they give too much respect to these guys  everybody’s half ass scared of them before they get on the field   johnson said      a lot of times before a game  a lot of guys are beaten mentally   i saw a defense that wasn’t overly talented   johnson later said  it was all really about containing tom brady  we had a hard time doing that   he had 505 yards  but that was really it  man  going into the game  i’m not going to be shell shocked by it  that was kind of our thing going in  i think we had the upper hand on that    field level mediaour standards the thomson reuters trust principles '"
      ]
     },
     "execution_count": 10,
     "metadata": {},
     "output_type": "execute_result"
    }
   ],
   "source": [
    "wordcount_test_reuters.lower()"
   ]
  },
  {
   "cell_type": "code",
   "execution_count": 12,
   "metadata": {},
   "outputs": [],
   "source": [
    "import nltk\n",
    "from sklearn.externals import joblib\n",
    "import re\n",
    "import codecs\n",
    "from sklearn import feature_extraction\n",
    "import os\n",
    "from bs4 import BeautifulSoup\n",
    "import urllib\n",
    "from nltk.stem.snowball import SnowballStemmer #you also need the roots of the words (stems). Python to the rescue. Use the snowballstemmer\n",
    "\n",
    "def token_stem(text):\n",
    "    # tokenize by sentence and word. this way you ensure you get rid of punctuations\n",
    "    tokens = [word for sent in nltk.sent_tokenize(text) for word in nltk.word_tokenize(sent)]\n",
    "    tokens_with_letters = []\n",
    "    # use the regex library to search only for items that contain letters. this will enable you to eliminate punctuation\n",
    "    for token in tokens:\n",
    "        if re.search('[a-zA-Z]', token):\n",
    "            tokens_with_letters.append(token)\n",
    "    stems = [stemmer.stem(t) for t in tokens_with_letters] #\"stems\" part\n",
    "    return stems\n",
    "\n",
    "def token(text): #difference between this one and the one above is the \"stems\" part\n",
    "    #same as above\n",
    "    tokens = [word.lower() for sent in nltk.sent_tokenize(text) for word in nltk.word_tokenize(sent)]\n",
    "    tokens_with_letters = []\n",
    "    # same as above\n",
    "    for token in tokens:\n",
    "        if re.search('[a-zA-Z]', token):\n",
    "            tokens_with_letters.append(token)\n",
    "    return tokens_with_letters"
   ]
  },
  {
   "cell_type": "code",
   "execution_count": 13,
   "metadata": {},
   "outputs": [],
   "source": [
    "reuters_article_list=reuters_uniques['article'].tolist()\n",
    "nyt_article_list=nyt_uniques['article'].tolist()\n"
   ]
  },
  {
   "cell_type": "code",
   "execution_count": 14,
   "metadata": {},
   "outputs": [
    {
     "data": {
      "text/plain": [
       "'Philadelphia Eagles tackle Lane Johnson hasn’t been shy about criticizing the New England Patriots, and he elaborated on what spurred many of those comments on a Steve Austin podcast published Tuesday. Jan 31, 2018; Bloomington, MN, USA; Philadelphia Eagles offensive tackle Lane Johnson during a press conference in advance of Super Bowl LII against the New England Patriots at Mall of America. Mandatory Credit: Jerry Lai-USA TODAY Sports“Here’s what pissed me off,” Johnson said when asked about his previous coments. “The Patriots, obviously, I respect their coach, I respect Bill , I respect Tom Brady. But just because the way that they won the Super Bowls, the Patriot Way, is that how everybody else is supposed to do the same thing? No, it’s not. And that’s what I got mad at, the arrogance by them. “There was obviously some stuff behind closed doors. Their owner (Robert Kraft) talking s—- to our owner (Jeffrey Lurie). Bill talking s—- to our head coach (Doug Pederson) before the game. I’m not going to say it, but a lot of s—- kind of built up to that, and I just got tired of hearing about it, man, to be honest.” After the Eagles secured their trip to Super Bowl LII with an NFC Championship victory over the Minnesota Vikings, Johnson called Brady a “pretty boy” and added, “there’s nothing I’d like to do more than dethrone that guy.” Then, a week after Philadelphia’s victory to claim the Lombardi Trophy in February, he called New England a “fear-based organization” with players who “act like f—-ing robots.” Reflecting on the comments in Tuesday’s podcast, Johnson added that he wanted to show his teammates not to fear the Patriots, something he thinks happens often as the result of the team’s history of success and the resulting aura. “I got in a lot of trouble running my mouth, but my thinking was, they give too much respect to these guys, everybody’s half-ass scared of them before they get on the field,” Johnson said. “... A lot of times before a game, a lot of guys are beaten mentally.” “I saw a defense that wasn’t overly talented,” Johnson later said. “It was all really about containing Tom Brady. We had a hard time doing that — he had 505 yards. But that was really it, man. Going into the game, I’m not going to be shell-shocked by it. That was kind of our thing going in. I think we had the upper hand on that.” —Field Level MediaOur Standards:The Thomson Reuters Trust Principles.'"
      ]
     },
     "execution_count": 14,
     "metadata": {},
     "output_type": "execute_result"
    }
   ],
   "source": [
    "reuters_article_list[0]"
   ]
  },
  {
   "cell_type": "code",
   "execution_count": 17,
   "metadata": {},
   "outputs": [],
   "source": [
    "stopwords = nltk.corpus.stopwords.words('english')\n",
    "stemmer = SnowballStemmer(\"english\") "
   ]
  },
  {
   "cell_type": "code",
   "execution_count": 18,
   "metadata": {},
   "outputs": [
    {
     "name": "stdout",
     "output_type": "stream",
     "text": [
      "[nltk_data] Downloading package stopwords to\n",
      "[nltk_data]     C:\\Users\\aditi\\AppData\\Roaming\\nltk_data...\n",
      "[nltk_data]   Package stopwords is already up-to-date!\n"
     ]
    },
    {
     "data": {
      "text/plain": [
       "True"
      ]
     },
     "execution_count": 18,
     "metadata": {},
     "output_type": "execute_result"
    }
   ],
   "source": [
    "import nltk\n",
    "nltk.download('stopwords')"
   ]
  },
  {
   "cell_type": "code",
   "execution_count": 19,
   "metadata": {},
   "outputs": [],
   "source": [
    "word_list_stemmed_nyt = []\n",
    "word_list_tokenized_nyt = []\n",
    "for i in nyt_article_list:\n",
    "    allwords_stemmed_nyt = token_stem(i) #for each item in 'all_summaries', tokenize&stem\n",
    "    word_list_stemmed_nyt.extend(allwords_stemmed_nyt) #extend the 'word_list_stemmed' list\n",
    "    \n",
    "    allwords_tokenized_nyt = token(i)\n",
    "    word_list_tokenized_nyt.extend(allwords_tokenized_nyt) #this one's the word list for the tokenized (these aren't stemmed)"
   ]
  },
  {
   "cell_type": "code",
   "execution_count": 50,
   "metadata": {
    "collapsed": true
   },
   "outputs": [],
   "source": [
    "word_list_stemmed_reuters = []\n",
    "word_list_tokenized_reuters = []\n",
    "for i in reuters_article_list:\n",
    "    allwords_stemmed_reuters = token_stem(i) #for each item in 'all_summaries', tokenize&stem\n",
    "    word_list_stemmed_reuters.extend(allwords_stemmed_reuters) #extend the 'word_list_stemmed' list\n",
    "    \n",
    "    allwords_tokenized_reuters = token(i)\n",
    "    word_list_tokenized_reuters.extend(allwords_tokenized_reuters) #this one's the word list for the tokenized (these aren't stemmed)"
   ]
  },
  {
   "cell_type": "code",
   "execution_count": 51,
   "metadata": {
    "scrolled": true
   },
   "outputs": [
    {
     "name": "stdout",
     "output_type": "stream",
     "text": [
      "['philadelphia', 'eagl', 'tackl', 'lane', 'johnson', 'hasn', 't', 'been', 'shi', 'about', 'critic', 'the', 'new', 'england', 'patriot', 'and', 'he', 'elabor', 'on', 'what', 'spur', 'mani', 'of', 'those', 'comment', 'on', 'a', 'steve', 'austin', 'podcast', 'publish', 'tuesday', 'jan', 'bloomington', 'mn', 'usa', 'philadelphia', 'eagl', 'offens', 'tackl', 'lane', 'johnson', 'dure', 'a', 'press', 'confer', 'in', 'advanc', 'of', 'super', 'bowl', 'lii', 'against', 'the', 'new', 'england', 'patriot', 'at', 'mall', 'of', 'america', 'mandatori', 'credit', 'jerri', 'lai-usa', 'today', 'sport', 'here', 's', 'what', 'piss', 'me', 'off', 'johnson', 'said', 'when', 'ask', 'about', 'his', 'previous', 'coment', 'the', 'patriot', 'obvious', 'i', 'respect', 'their', 'coach', 'i', 'respect', 'bill', 'i', 'respect', 'tom', 'bradi', 'but', 'just', 'becaus', 'the', 'way']\n",
      "['philadelphia', 'eagles', 'tackle', 'lane', 'johnson', 'hasn', 't', 'been', 'shy', 'about', 'criticizing', 'the', 'new', 'england', 'patriots', 'and', 'he', 'elaborated', 'on', 'what', 'spurred', 'many', 'of', 'those', 'comments', 'on', 'a', 'steve', 'austin', 'podcast', 'published', 'tuesday', 'jan', 'bloomington', 'mn', 'usa', 'philadelphia', 'eagles', 'offensive', 'tackle', 'lane', 'johnson', 'during', 'a', 'press', 'conference', 'in', 'advance', 'of', 'super', 'bowl', 'lii', 'against', 'the', 'new', 'england', 'patriots', 'at', 'mall', 'of', 'america', 'mandatory', 'credit', 'jerry', 'lai-usa', 'today', 'sports', 'here', 's', 'what', 'pissed', 'me', 'off', 'johnson', 'said', 'when', 'asked', 'about', 'his', 'previous', 'coments', 'the', 'patriots', 'obviously', 'i', 'respect', 'their', 'coach', 'i', 'respect', 'bill', 'i', 'respect', 'tom', 'brady', 'but', 'just', 'because', 'the', 'way']\n",
      "['seoul', 'south', 'korea', 'north', 'korea', 'threw', 'presid', 'trump', 's', 'plan', 'summit', 'meet', 'with', 'it', 'leader', 'kim', 'jong-un', 'into', 'doubt', 'on', 'wednesday', 'threaten', 'to', 'call', 'off', 'the', 'landmark', 'encount', 'if', 'the', 'unit', 'state', 'insist', 'on', 'unilater', 'nuclear', 'abandonment.', 'the', 'warn', 'made', 'by', 'the', 'north', 's', 'disarma', 'negoti', 'caught', 'trump', 'administr', 'offici', 'off', 'guard', 'and', 'set', 'off', 'an', 'intern', 'debat', 'over', 'whether', 'mr.', 'kim', 'was', 'mere', 'postur', 'in', 'advanc', 'of', 'the', 'meet', 'in', 'singapor', 'next', 'month', 'or', 'was', 'erect', 'a', 'serious', 'new', 'hurdle.th', 'abrupt', 'chang', 'in', 'tone', 'began', 'earli', 'wednesday', 'when', 'north', 'korea', 'indefinit', 'postpon', 'high-level', 'talk', 'with', 'south', 'korea', 'over', 'the']\n",
      "['seoul', 'south', 'korea', 'north', 'korea', 'threw', 'president', 'trump', 's', 'planned', 'summit', 'meeting', 'with', 'its', 'leader', 'kim', 'jong-un', 'into', 'doubt', 'on', 'wednesday', 'threatening', 'to', 'call', 'off', 'the', 'landmark', 'encounter', 'if', 'the', 'united', 'states', 'insisted', 'on', 'unilateral', 'nuclear', 'abandonment.', 'the', 'warning', 'made', 'by', 'the', 'north', 's', 'disarmament', 'negotiator', 'caught', 'trump', 'administration', 'officials', 'off', 'guard', 'and', 'set', 'off', 'an', 'internal', 'debate', 'over', 'whether', 'mr.', 'kim', 'was', 'merely', 'posturing', 'in', 'advance', 'of', 'the', 'meeting', 'in', 'singapore', 'next', 'month', 'or', 'was', 'erecting', 'a', 'serious', 'new', 'hurdle.the', 'abrupt', 'change', 'in', 'tone', 'began', 'early', 'wednesday', 'when', 'north', 'korea', 'indefinitely', 'postponed', 'high-level', 'talks', 'with', 'south', 'korea', 'over', 'the']\n"
     ]
    }
   ],
   "source": [
    "print(word_list_stemmed_reuters[0:100])\n",
    "print(word_list_tokenized_reuters[0:100])\n",
    "print(word_list_stemmed_nyt[0:100])\n",
    "print(word_list_tokenized_nyt[0:100])"
   ]
  },
  {
   "cell_type": "code",
   "execution_count": 52,
   "metadata": {
    "collapsed": true
   },
   "outputs": [],
   "source": [
    "#define function for cosine similarity (vector vs. matrix of values)\n",
    "import scipy.spatial.distance\n",
    "def cos_cdist(matrix, vector):\n",
    "    \"\"\"\n",
    "    Compute the cosine distances between each row of matrix and vector.\n",
    "    \"\"\"\n",
    "    v = vector.reshape(1, -1)\n",
    "    return scipy.spatial.distance.cdist(matrix, v, 'cosine').reshape(-1)"
   ]
  },
  {
   "cell_type": "code",
   "execution_count": 53,
   "metadata": {
    "collapsed": true
   },
   "outputs": [],
   "source": [
    "from sklearn.feature_extraction.text import TfidfVectorizer\n",
    "vectorizer = TfidfVectorizer(max_df=0.9, max_features=200000,\n",
    "                                 min_df=0.005, stop_words='english',\n",
    "                                 use_idf=True, tokenizer=token_stem, ngram_range=(1,3))"
   ]
  },
  {
   "cell_type": "code",
   "execution_count": 55,
   "metadata": {},
   "outputs": [
    {
     "name": "stdout",
     "output_type": "stream",
     "text": [
      "   Unnamed: 0  Unnamed: 0.1                          date  \\\n",
      "0           0             0  ['2018-05-15t19:25:23.000z']   \n",
      "1           1             1  ['2018-05-15t19:49:09.000z']   \n",
      "2           2             2  ['2018-05-16t00:02:11.000z']   \n",
      "3           3             3  ['2018-05-15t14:54:31.000z']   \n",
      "4           4             4  ['2018-05-15t15:05:05.000z']   \n",
      "\n",
      "                                                link  \\\n",
      "0  https://www.nytimes.com/2018/05/15/world/asia/...   \n",
      "1  https://www.nytimes.com/2018/05/15/us/cia-hack...   \n",
      "2  https://www.nytimes.com/2018/05/15/world/middl...   \n",
      "3  https://www.nytimes.com/2018/05/15/obituaries/...   \n",
      "4  https://www.nytimes.com/2018/05/15/world/europ...   \n",
      "\n",
      "                                            keywords  \\\n",
      "0  north korea,kim jong-un,donald trump,us foreig...   \n",
      "1  joshua a. schulte,cia,classified information,h...   \n",
      "2  gaza strip,civil unrest,palestinians,hamas,bor...   \n",
      "3  tom wolfe,obituary,writer,news media;journalis...   \n",
      "4  meghan markle;meghan, duchess of sussex,prince...   \n",
      "\n",
      "                                             article  \\\n",
      "0  SEOUL, South Korea — North Korea threw Preside...   \n",
      "1  In weekly online posts last year, WikiLeaks re...   \n",
      "2  NAHAL OZ, Israel — Daniel Rahamim, 63, had fou...   \n",
      "3  Tom Wolfe, an innovative journalist and noveli...   \n",
      "4  It is notoriously hard to escape your backgrou...   \n",
      "\n",
      "                                               title  \n",
      "0  North Korea Threatens to Call Off Summit Meeti...  \n",
      "1  Suspect Identified in C.I.A. Leak Was Charged,...  \n",
      "2  Israelis Reflect on Gaza: ‘I Hope at Least Tha...  \n",
      "3  Tom Wolfe, 88, ‘New Journalist’ With Electric ...  \n",
      "4  For Meghan Markle’s American Family, a Relentl...  \n",
      "\n",
      "\n",
      "   Unnamed: 0                     date  \\\n",
      "0           0  May 16, 2018 /  4:00 AM   \n",
      "1           1  May 15, 2018 /  7:10 PM   \n",
      "2           2  May 16, 2018 /  3:55 AM   \n",
      "3           3  May 16, 2018 /  3:07 AM   \n",
      "4           4  May 15, 2018 /  9:25 PM   \n",
      "\n",
      "                                                link  \\\n",
      "0  http://www.reuters.com/article/us-football-nfl...   \n",
      "1  http://www.reuters.com/article/us-baseball-mlb...   \n",
      "2  http://www.reuters.com/article/us-football-nfl...   \n",
      "3  http://www.reuters.com/article/us-kinder-morga...   \n",
      "4  http://www.reuters.com/article/us-tennis-rome-...   \n",
      "\n",
      "                                            keywords  \\\n",
      "0  ['us', 'football', 'nfl', 'phi', 'nep', 'johns...   \n",
      "1  ['us', 'baseball', 'mlb', 'sea', 'cano', 'spor...   \n",
      "2  ['us', 'football', 'nfl', 'ari', 'kirk', 'spor...   \n",
      "3  ['us', 'kinder', 'morgan', 'cn', 'pipeline', '...   \n",
      "4  ['us', 'tennis', 'rome', 'women', 'germany', '...   \n",
      "\n",
      "                                             article  \n",
      "0  Philadelphia Eagles tackle Lane Johnson hasn’t...  \n",
      "1  (Reuters) - Seattle Mariners second baseman Ro...  \n",
      "2  The Arizona Cardinals say they were aware that...  \n",
      "3  OTTAWA (Reuters) - Canadian Finance Minister B...  \n",
      "4  (Reuters) - Jelena Ostapenko stormed into the ...  \n"
     ]
    }
   ],
   "source": [
    "print(nyt_uniques.head())\n",
    "print()\n",
    "print()\n",
    "print(reuters_uniques.head())"
   ]
  },
  {
   "cell_type": "code",
   "execution_count": 56,
   "metadata": {},
   "outputs": [
    {
     "data": {
      "text/plain": [
       "3406"
      ]
     },
     "execution_count": 56,
     "metadata": {},
     "output_type": "execute_result"
    }
   ],
   "source": [
    "len(nyt_article_list)"
   ]
  },
  {
   "cell_type": "code",
   "execution_count": 60,
   "metadata": {},
   "outputs": [
    {
     "data": {
      "text/plain": [
       "22322"
      ]
     },
     "execution_count": 60,
     "metadata": {},
     "output_type": "execute_result"
    }
   ],
   "source": [
    "len(reuters_article_list)"
   ]
  },
  {
   "cell_type": "code",
   "execution_count": 89,
   "metadata": {
    "collapsed": true
   },
   "outputs": [],
   "source": [
    "test_reuters=reuters_article_list[0:10]\n",
    "test_nyt=nyt_article_list[0:10]"
   ]
  },
  {
   "cell_type": "code",
   "execution_count": 90,
   "metadata": {
    "collapsed": true
   },
   "outputs": [],
   "source": [
    "test_reuters.extend(test_nyt)"
   ]
  },
  {
   "cell_type": "code",
   "execution_count": 91,
   "metadata": {},
   "outputs": [
    {
     "data": {
      "text/plain": [
       "20"
      ]
     },
     "execution_count": 91,
     "metadata": {},
     "output_type": "execute_result"
    }
   ],
   "source": [
    "len(test_reuters)"
   ]
  },
  {
   "cell_type": "code",
   "execution_count": 92,
   "metadata": {
    "collapsed": true
   },
   "outputs": [],
   "source": [
    "nyt_article_list.extend(reuters_article_list)"
   ]
  },
  {
   "cell_type": "code",
   "execution_count": 93,
   "metadata": {},
   "outputs": [
    {
     "data": {
      "text/plain": [
       "25728"
      ]
     },
     "execution_count": 93,
     "metadata": {},
     "output_type": "execute_result"
    }
   ],
   "source": [
    "len(nyt_article_list)"
   ]
  },
  {
   "cell_type": "code",
   "execution_count": 95,
   "metadata": {},
   "outputs": [
    {
     "name": "stdout",
     "output_type": "stream",
     "text": [
      "CPU times: user 6min 56s, sys: 31.6 s, total: 7min 28s\n",
      "Wall time: 7min 47s\n"
     ]
    }
   ],
   "source": [
    "\n",
    "%time tfidf_matrix = vectorizer.fit_transform(nyt_article_list) #fit"
   ]
  },
  {
   "cell_type": "code",
   "execution_count": 101,
   "metadata": {},
   "outputs": [
    {
     "data": {
      "text/plain": [
       "(25728, 5915)"
      ]
     },
     "execution_count": 101,
     "metadata": {},
     "output_type": "execute_result"
    }
   ],
   "source": [
    "tfidf_matrix.get_shape()"
   ]
  },
  {
   "cell_type": "code",
   "execution_count": 104,
   "metadata": {
    "collapsed": true
   },
   "outputs": [],
   "source": [
    "nyt_tfidf=tfidf_matrix[0:3406,:]\n",
    "reuters_tfidf=tfidf_matrix[3406:,:]"
   ]
  },
  {
   "cell_type": "code",
   "execution_count": 105,
   "metadata": {},
   "outputs": [
    {
     "data": {
      "text/plain": [
       "<3406x5915 sparse matrix of type '<class 'numpy.float64'>'\n",
       "\twith 842406 stored elements in Compressed Sparse Row format>"
      ]
     },
     "execution_count": 105,
     "metadata": {},
     "output_type": "execute_result"
    }
   ],
   "source": [
    "nyt_tfidf"
   ]
  },
  {
   "cell_type": "code",
   "execution_count": 106,
   "metadata": {},
   "outputs": [
    {
     "data": {
      "text/plain": [
       "<22322x5915 sparse matrix of type '<class 'numpy.float64'>'\n",
       "\twith 3076669 stored elements in Compressed Sparse Row format>"
      ]
     },
     "execution_count": 106,
     "metadata": {},
     "output_type": "execute_result"
    }
   ],
   "source": [
    "reuters_tfidf"
   ]
  },
  {
   "cell_type": "code",
   "execution_count": 107,
   "metadata": {
    "collapsed": true
   },
   "outputs": [],
   "source": [
    "nyt_heroes=pd.read_csv('20180516-20180621_nyt_heroes_unique.csv')"
   ]
  },
  {
   "cell_type": "code",
   "execution_count": 108,
   "metadata": {
    "collapsed": true
   },
   "outputs": [],
   "source": [
    "nyt_heroes_list=nyt_heroes['article'].tolist()"
   ]
  },
  {
   "cell_type": "code",
   "execution_count": 110,
   "metadata": {
    "collapsed": true
   },
   "outputs": [],
   "source": [
    "word_list_stemmed_heroes = []\n",
    "word_list_tokenized_heroes = []\n",
    "\n",
    "for i in nyt_heroes_list:\n",
    "    allwords_stemmed_heroes = token_stem(i) #for each item in 'all_summaries', tokenize&stem\n",
    "    word_list_stemmed_heroes.extend(allwords_stemmed_heroes) #extend the 'word_list_stemmed' list\n",
    "    \n",
    "    allwords_tokenized_heroes = token(i)\n",
    "    word_list_tokenized_heroes.extend(allwords_tokenized_heroes) #this one's the word list for the tokenized (these aren't stemmed)"
   ]
  },
  {
   "cell_type": "code",
   "execution_count": 117,
   "metadata": {
    "collapsed": true
   },
   "outputs": [],
   "source": [
    "reuters_article_list.extend(nyt_heroes_list)"
   ]
  },
  {
   "cell_type": "code",
   "execution_count": 119,
   "metadata": {},
   "outputs": [
    {
     "name": "stdout",
     "output_type": "stream",
     "text": [
      "CPU times: user 5min 39s, sys: 14.4 s, total: 5min 53s\n",
      "Wall time: 6min 9s\n"
     ]
    }
   ],
   "source": [
    "%time tfidf_matrix = vectorizer.fit_transform(reuters_article_list) #fit"
   ]
  },
  {
   "cell_type": "code",
   "execution_count": 118,
   "metadata": {},
   "outputs": [
    {
     "data": {
      "text/plain": [
       "22460"
      ]
     },
     "execution_count": 118,
     "metadata": {},
     "output_type": "execute_result"
    }
   ],
   "source": [
    "len(reuters_article_list)"
   ]
  },
  {
   "cell_type": "code",
   "execution_count": 121,
   "metadata": {},
   "outputs": [
    {
     "data": {
      "text/plain": [
       "(22460, 5508)"
      ]
     },
     "execution_count": 121,
     "metadata": {},
     "output_type": "execute_result"
    }
   ],
   "source": [
    "tfidf_matrix.get_shape()"
   ]
  },
  {
   "cell_type": "code",
   "execution_count": 123,
   "metadata": {
    "collapsed": true
   },
   "outputs": [],
   "source": [
    "reuters_tfidf=tfidf_matrix[0:22322,:]"
   ]
  },
  {
   "cell_type": "code",
   "execution_count": 124,
   "metadata": {
    "collapsed": true
   },
   "outputs": [],
   "source": [
    "nyt_heroes_tfidf=tfidf_matrix[22322:,:]"
   ]
  },
  {
   "cell_type": "code",
   "execution_count": 125,
   "metadata": {},
   "outputs": [
    {
     "data": {
      "text/plain": [
       "(22322, 5508)"
      ]
     },
     "execution_count": 125,
     "metadata": {},
     "output_type": "execute_result"
    }
   ],
   "source": [
    "reuters_tfidf.get_shape()"
   ]
  },
  {
   "cell_type": "code",
   "execution_count": 126,
   "metadata": {},
   "outputs": [
    {
     "data": {
      "text/plain": [
       "(138, 5508)"
      ]
     },
     "execution_count": 126,
     "metadata": {},
     "output_type": "execute_result"
    }
   ],
   "source": [
    "nyt_heroes_tfidf.get_shape()"
   ]
  },
  {
   "cell_type": "code",
   "execution_count": 127,
   "metadata": {},
   "outputs": [
    {
     "data": {
      "text/plain": [
       "25728"
      ]
     },
     "execution_count": 127,
     "metadata": {},
     "output_type": "execute_result"
    }
   ],
   "source": [
    "len(nyt_article_list)"
   ]
  },
  {
   "cell_type": "code",
   "execution_count": 128,
   "metadata": {},
   "outputs": [
    {
     "data": {
      "text/plain": [
       "138"
      ]
     },
     "execution_count": 128,
     "metadata": {},
     "output_type": "execute_result"
    }
   ],
   "source": [
    "len(nyt_heroes_list)"
   ]
  },
  {
   "cell_type": "code",
   "execution_count": 131,
   "metadata": {},
   "outputs": [
    {
     "name": "stderr",
     "output_type": "stream",
     "text": [
      "/Users/berkayadlim/anaconda3/lib/python3.6/site-packages/scipy/spatial/distance.py:1832: RuntimeWarning: invalid value encountered in true_divide\n",
      "  dm /= _row_norms(XA).reshape(-1, 1)\n",
      "/Users/berkayadlim/anaconda3/lib/python3.6/site-packages/scipy/spatial/distance.py:1833: RuntimeWarning: invalid value encountered in true_divide\n",
      "  dm /= _row_norms(XB)\n"
     ]
    }
   ],
   "source": [
    "distances=scipy.spatial.distance.cdist(reuters_tfidf.toarray(),nyt_heroes_tfidf.toarray(),'cosine')"
   ]
  },
  {
   "cell_type": "code",
   "execution_count": 133,
   "metadata": {
    "collapsed": true
   },
   "outputs": [],
   "source": [
    "letsee=reuters_tfidf.toarray()"
   ]
  },
  {
   "cell_type": "code",
   "execution_count": 173,
   "metadata": {},
   "outputs": [
    {
     "name": "stderr",
     "output_type": "stream",
     "text": [
      "/Users/berkayadlim/anaconda3/lib/python3.6/site-packages/ipykernel_launcher.py:1: RuntimeWarning: invalid value encountered in less\n",
      "  \"\"\"Entry point for launching an IPython kernel.\n"
     ]
    }
   ],
   "source": [
    "our_indices=np.where(distances <0.3 )"
   ]
  },
  {
   "cell_type": "code",
   "execution_count": 174,
   "metadata": {},
   "outputs": [
    {
     "data": {
      "text/plain": [
       "(array([ 6374,  6796,  7508, 10702, 11881, 11881, 13256, 13975, 14253,\n",
       "        14316, 14322, 14580, 14979, 14979, 17830, 17857, 19813, 21386, 21386]),\n",
       " array([110,  27, 110, 110,  57,  66,  79,  79,  79,  75,  75,  79,  57,\n",
       "         66, 109, 110, 112, 125, 126]))"
      ]
     },
     "execution_count": 174,
     "metadata": {},
     "output_type": "execute_result"
    }
   ],
   "source": [
    "our_indices"
   ]
  },
  {
   "cell_type": "code",
   "execution_count": 175,
   "metadata": {},
   "outputs": [
    {
     "data": {
      "text/plain": [
       "[110,\n",
       " 27,\n",
       " 110,\n",
       " 110,\n",
       " 57,\n",
       " 66,\n",
       " 79,\n",
       " 79,\n",
       " 79,\n",
       " 75,\n",
       " 75,\n",
       " 79,\n",
       " 57,\n",
       " 66,\n",
       " 109,\n",
       " 110,\n",
       " 112,\n",
       " 125,\n",
       " 126]"
      ]
     },
     "execution_count": 175,
     "metadata": {},
     "output_type": "execute_result"
    }
   ],
   "source": [
    "our_indices[0].tolist()\n",
    "our_indices[1].tolist()\n"
   ]
  },
  {
   "cell_type": "code",
   "execution_count": 176,
   "metadata": {
    "collapsed": true
   },
   "outputs": [],
   "source": [
    "our_tuples=list(zip(our_indices[0],our_indices[1]))"
   ]
  },
  {
   "cell_type": "code",
   "execution_count": 177,
   "metadata": {},
   "outputs": [
    {
     "data": {
      "text/plain": [
       "[(6374, 110),\n",
       " (6796, 27),\n",
       " (7508, 110),\n",
       " (10702, 110),\n",
       " (11881, 57),\n",
       " (11881, 66),\n",
       " (13256, 79),\n",
       " (13975, 79),\n",
       " (14253, 79),\n",
       " (14316, 75),\n",
       " (14322, 75),\n",
       " (14580, 79),\n",
       " (14979, 57),\n",
       " (14979, 66),\n",
       " (17830, 109),\n",
       " (17857, 110),\n",
       " (19813, 112),\n",
       " (21386, 125),\n",
       " (21386, 126)]"
      ]
     },
     "execution_count": 177,
     "metadata": {},
     "output_type": "execute_result"
    }
   ],
   "source": [
    "our_tuples"
   ]
  },
  {
   "cell_type": "code",
   "execution_count": 1,
   "metadata": {},
   "outputs": [
    {
     "ename": "NameError",
     "evalue": "name 'nyt_article_list' is not defined",
     "output_type": "error",
     "traceback": [
      "\u001b[0;31m---------------------------------------------------------------------------\u001b[0m",
      "\u001b[0;31mNameError\u001b[0m                                 Traceback (most recent call last)",
      "\u001b[0;32m<ipython-input-1-3aff7785f37e>\u001b[0m in \u001b[0;36m<module>\u001b[0;34m()\u001b[0m\n\u001b[0;32m----> 1\u001b[0;31m \u001b[0mnyt_article_list\u001b[0m\u001b[0;34m[\u001b[0m\u001b[0;36m110\u001b[0m\u001b[0;34m]\u001b[0m\u001b[0;34m\u001b[0m\u001b[0m\n\u001b[0m",
      "\u001b[0;31mNameError\u001b[0m: name 'nyt_article_list' is not defined"
     ]
    }
   ],
   "source": [
    "nyt_article_list[110]"
   ]
  },
  {
   "cell_type": "code",
   "execution_count": 188,
   "metadata": {},
   "outputs": [
    {
     "data": {
      "text/plain": [
       "\"(Reuters) - Democratic voters rallied on Tuesday for the chance to make history in November by selecting a ticket filled with female candidates, including a bid to elect the first African-American female governor in the United States. Stacey Abrams won the party’s nomination for governor in Georgia, where she faces long odds in a Republican-dominated southern state testing divergent Democratic strategies. She was among a slate of candidates selected by voters in four states to advance to the November midterm elections. Contests in Texas and Kentucky also moved women to the forefront of the fight for the U.S. House of Representatives, where Democrats need to wrest 23 seats from Republicans to gain control. Several races were a referendum on divisions within the Democratic party.  Kentucky Democrats picked a female former Marine fighter pilot, Amy McGrath, in a snub to the party establishment for a U.S. House seat district that Democrats hope to put into play. The Democratic Congressional Campaign Committee (DCCC) had promoted her opponent, Lexington Mayor Jim Gray, to take on U.S. Representative Andy Barr, the Republican incumbent, in November. Runoff contests in Texas also showed the potency of the record numbers of women running, especially on the Democratic ticket, in the first national election since Republican President Donald Trump won the White House in 2016.     In Texas, two women backed by the national Democrats won the nomination for competitive House seats. Iraq war veteran Gina Ortiz Jones hopes to blaze a trail as a lesbian and Filipina-American in her bid to unseat Republican Congressman Will Hurd. Lawyer Lizzie Pannill Fletcher won the party’s nomination to challenge Republican U.S. Representative John Culberson in Houston’s affluent suburbs.  She beat Laura Moser, a progressive previously targeted by opposition research by the DCCC. Also in Texas, Democrats nominated Lupe Valdez to run against Republican Governor Greg Abbott. A Latina and former sheriff, Valdez is seen as a long-shot in the conservative state to become the first openly lesbian governor in the country. In Georgia, history was already being written as Abrams became the first black female in the United States to win a major party’s nomination for governor, according to the Gender Watch project, a nonpartisan group tracking elections. “Our state’s rich and complicated history courses through our memories on nights like tonight, when the unexpected becomes the truth,” Abrams told supporters, recalling Georgia’s place in the civil rights movement. In the contest for an open seat, Abrams aims to turn a Republican-controlled state by mobilizing black voters - a strongly Democratic demographic group that often skips off-year elections - to form a winning coalition with white progressives. Abrams defeated Stacey Evans, a white candidate who argued Democrats could not win without also persuading white moderate voters who can swing between parties. The Republican primary for Georgia’s governorship was headed to a runoff between Lieutenant Governor L.S. “Casey” Cagle and Secretary of State Brian Kemp in a contest where gun rights has been a key issue. In Arkansas, Republican Governor Asa Hutchinson won his primary. FILE PHOTO: Stacey Abrams, running for the Democratic primary for Georgia's 2018 governor's race, speaks at a Young Democrats of Cobb County meeting as she campaigns in Cobb County, Georgia, U.S. on November 16, 2017.   REUTERS/Chris Aluka Berry/File PhotoReporting by Letitia Stein in Detroit; Editing by Colleen JenkinsOur Standards:The Thomson Reuters Trust Principles.\""
      ]
     },
     "execution_count": 188,
     "metadata": {},
     "output_type": "execute_result"
    }
   ],
   "source": [
    "reuters_article_list[6796]"
   ]
  },
  {
   "cell_type": "code",
   "execution_count": null,
   "metadata": {
    "collapsed": true
   },
   "outputs": [],
   "source": []
  }
 ],
 "metadata": {
  "kernelspec": {
   "display_name": "Python 3",
   "language": "python",
   "name": "python3"
  },
  "language_info": {
   "codemirror_mode": {
    "name": "ipython",
    "version": 3
   },
   "file_extension": ".py",
   "mimetype": "text/x-python",
   "name": "python",
   "nbconvert_exporter": "python",
   "pygments_lexer": "ipython3",
   "version": "3.6.5"
  }
 },
 "nbformat": 4,
 "nbformat_minor": 2
}
